{
 "cells": [
  {
   "cell_type": "code",
   "execution_count": 5,
   "metadata": {},
   "outputs": [
    {
     "name": "stdout",
     "output_type": "stream",
     "text": [
      "Eigenvalues of XX^T:\n",
      "    Eigenvalues\n",
      "0  5.827482e+01\n",
      "1  1.246720e+01\n",
      "2  3.257979e+00\n",
      "3 -2.540093e-15\n",
      "4  9.593524e-16\n",
      "\n",
      "Eigenvalues of X^TX:\n",
      "   Eigenvalues\n",
      "0    58.274818\n",
      "1    12.467203\n",
      "2     3.257979\n"
     ]
    }
   ],
   "source": [
    "import numpy as np\n",
    "import pandas as pd\n",
    "\n",
    "# Step 2: Generate or load the data matrix X\n",
    "# For demonstration, let's create a random matrix X with integers between 0 and 3\n",
    "np.random.seed(0)\n",
    "X = np.random.randint(0, 4, size=(5, 3))  # Example data matrix with 5 samples and 3 features\n",
    "\n",
    "# Step 3: Compute the covariance matrices XX^T and X^TX\n",
    "XXT = np.dot(X, X.T)\n",
    "XTX = np.dot(X.T, X)\n",
    "\n",
    "# Step 4: Perform eigendecomposition on XX^T\n",
    "eigvals_XXT, eigvecs_XXT = np.linalg.eig(XXT)\n",
    "\n",
    "# Step 5: Perform eigendecomposition on X^TX\n",
    "eigvals_XTX, eigvecs_XTX = np.linalg.eig(XTX)\n",
    "\n",
    "# Extract the real parts of the eigenvalues\n",
    "eigvals_XXT_real = eigvals_XXT.real\n",
    "eigvals_XTX_real = eigvals_XTX.real\n",
    "\n",
    "# Step 6: Compare the eigenvalues and eigenvectors\n",
    "print(\"Eigenvalues of XX^T:\")\n",
    "print(pd.DataFrame(eigvals_XXT_real, columns=['Eigenvalues']))\n",
    "\n",
    "#print(\"Eigenvectors of XX^T:\")\n",
    "#print(pd.DataFrame(eigvecs_XXT))\n",
    "\n",
    "print(\"\\nEigenvalues of X^TX:\")\n",
    "print(pd.DataFrame(eigvals_XTX_real, columns=['Eigenvalues']))\n",
    "\n",
    "#print(\"Eigenvectors of X^TX:\")\n",
    "#print(pd.DataFrame(eigvecs_XTX))"
   ]
  },
  {
   "cell_type": "code",
   "execution_count": 9,
   "metadata": {},
   "outputs": [
    {
     "name": "stdout",
     "output_type": "stream",
     "text": [
      "Distance Matrix:\n",
      "          0         1         2         3         4\n",
      "0  0.000000  2.000000  3.000000  3.741657  1.000000\n",
      "1  2.000000  0.000000  3.605551  3.741657  1.000000\n",
      "2  3.000000  3.605551  0.000000  2.236068  3.162278\n",
      "3  3.741657  3.741657  2.236068  0.000000  3.605551\n",
      "4  1.000000  1.000000  3.162278  3.605551  0.000000\n",
      "\n",
      "Eigenvalues of the Distance Matrix:\n",
      "   Eigenvalues\n",
      "0    11.000509\n",
      "1    -6.119731\n",
      "2    -0.675210\n",
      "3    -1.757546\n",
      "4    -2.448022\n",
      "\n",
      "Eigenvectors of the Distance Matrix:\n",
      "          0         1         2         3         4\n",
      "0 -0.417919 -0.353508 -0.417202  0.601038  0.406291\n",
      "1 -0.439912 -0.417604 -0.398841 -0.543200 -0.421834\n",
      "2 -0.472180  0.436060  0.040168 -0.458136  0.612695\n",
      "3 -0.512907  0.567718  0.038527  0.362716 -0.530636\n",
      "4 -0.381829 -0.433805  0.814721  0.047294 -0.003567\n"
     ]
    }
   ],
   "source": [
    "from scipy.spatial.distance import pdist, squareform\n",
    "\n",
    "# Step 2: Compute the pairwise distance matrix\n",
    "distance_matrix = squareform(pdist(X, 'euclidean'))\n",
    "\n",
    "# Step 3: Perform eigendecomposition on the distance matrix\n",
    "eigvals, eigvecs = np.linalg.eig(distance_matrix)\n",
    "\n",
    "# Extract the real parts of the eigenvalues\n",
    "eigvals_real = eigvals.real\n",
    "\n",
    "# Step 4: Display the results\n",
    "print(\"Distance Matrix:\")\n",
    "print(pd.DataFrame(distance_matrix))\n",
    "\n",
    "print(\"\\nEigenvalues of the Distance Matrix:\")\n",
    "print(pd.DataFrame(eigvals_real, columns=['Eigenvalues']))\n",
    "\n",
    "print(\"\\nEigenvectors of the Distance Matrix:\")\n",
    "print(pd.DataFrame(eigvecs))"
   ]
  },
  {
   "cell_type": "code",
   "execution_count": 10,
   "metadata": {},
   "outputs": [
    {
     "name": "stdout",
     "output_type": "stream",
     "text": [
      "Distance Matrix:\n",
      "          0         1         2\n",
      "0  0.000000  5.567764  4.358899\n",
      "1  5.567764  0.000000  3.162278\n",
      "2  4.358899  3.162278  0.000000\n",
      "\n",
      "Eigenvalues of the Distance Matrix:\n",
      "   Eigenvalues\n",
      "0     8.800120\n",
      "1    -5.785129\n",
      "2    -3.014991\n",
      "\n",
      "Eigenvectors of the Distance Matrix:\n",
      "          0         1         2\n",
      "0  0.625590  0.762128 -0.166729\n",
      "1  0.582354 -0.598401 -0.550254\n",
      "2  0.519135 -0.247138  0.818182\n"
     ]
    }
   ],
   "source": [
    "import numpy as np\n",
    "import pandas as pd\n",
    "from scipy.spatial.distance import pdist, squareform\n",
    "\n",
    "# Step 1: Generate or load the data matrix X\n",
    "# For demonstration, let's create a random matrix X with integers between 0 and 3\n",
    "np.random.seed(0)\n",
    "X = np.random.randint(0, 4, size=(5, 3))  # Example data matrix with 5 samples and 3 features\n",
    "\n",
    "# Step 2: Compute the pairwise distance matrix\n",
    "distance_matrix = squareform(pdist(X.T, 'euclidean'))\n",
    "\n",
    "# Step 3: Perform eigendecomposition on the distance matrix\n",
    "eigvals, eigvecs = np.linalg.eig(distance_matrix)\n",
    "\n",
    "# Extract the real parts of the eigenvalues\n",
    "eigvals_real = eigvals.real\n",
    "\n",
    "# Step 4: Display the results\n",
    "print(\"Distance Matrix:\")\n",
    "print(pd.DataFrame(distance_matrix))\n",
    "\n",
    "print(\"\\nEigenvalues of the Distance Matrix:\")\n",
    "print(pd.DataFrame(eigvals_real, columns=['Eigenvalues']))\n",
    "\n",
    "print(\"\\nEigenvectors of the Distance Matrix:\")\n",
    "print(pd.DataFrame(eigvecs))"
   ]
  }
 ],
 "metadata": {
  "kernelspec": {
   "display_name": "Python 3",
   "language": "python",
   "name": "python3"
  },
  "language_info": {
   "codemirror_mode": {
    "name": "ipython",
    "version": 3
   },
   "file_extension": ".py",
   "mimetype": "text/x-python",
   "name": "python",
   "nbconvert_exporter": "python",
   "pygments_lexer": "ipython3",
   "version": "3.12.4"
  }
 },
 "nbformat": 4,
 "nbformat_minor": 2
}
